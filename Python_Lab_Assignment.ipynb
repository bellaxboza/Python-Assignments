{
 "cells": [
  {
   "cell_type": "markdown",
   "metadata": {},
   "source": [
    "# PyCity Schools Analysis\n",
    "\n",
    "* As a whole, schools with higher budgets, did not yield better test results. By contrast, schools with higher spending per student actually (\\\\$645 - 675) underperformed compared to schools with smaller budgets (\\\\$585 per student).\n",
    "\n",
    "* As a whole, smaller and medium sized schools dramatically out-performed large sized schools on passing math performances (89-91% passing vs 67%).\n",
    "\n",
    "* As a whole, charter schools out-performed the public district schools across all metrics. However, more analysis will be required to glean if the effect is due to school practices or the fact that charter schools tend to serve smaller student populations per school. \n",
    "---"
   ]
  },
  {
   "cell_type": "markdown",
   "metadata": {},
   "source": [
    "**Note:**\n",
    "Instructions have been included for each segment. You do not have to follow them exactly, but they are included to help you think through the steps."
   ]
  },
  {
   "cell_type": "code",
   "execution_count": 19,
   "metadata": {
    "ExecuteTime": {
     "end_time": "2022-08-06T06:08:31.925112Z",
     "start_time": "2022-08-06T06:08:29.337754Z"
    }
   },
   "outputs": [
    {
     "name": "stdout",
     "output_type": "stream",
     "text": [
      "complete!\n"
     ]
    }
   ],
   "source": [
    "# Dependencies and Setup\n",
    "import pandas as pd\n",
    "import numpy as np\n",
    "import sqlite3\n",
    "print('complete!')\n",
    "# loading data from python.db database\n",
    "conn = sqlite3.connect('python.db')\n",
    "\n",
    "# import 'school' and 'student' tables into pandas dataframe\n",
    "school_data = pd.read_sql_query(\"SELECT * FROM school\", conn)\n",
    "student_data = pd.read_sql_query(\"SELECT * FROM student\", conn)\n",
    "\n",
    "conn.close()\n"
   ]
  },
  {
   "cell_type": "code",
   "execution_count": 20,
   "metadata": {},
   "outputs": [
    {
     "data": {
      "text/html": [
       "<div>\n",
       "<style scoped>\n",
       "    .dataframe tbody tr th:only-of-type {\n",
       "        vertical-align: middle;\n",
       "    }\n",
       "\n",
       "    .dataframe tbody tr th {\n",
       "        vertical-align: top;\n",
       "    }\n",
       "\n",
       "    .dataframe thead th {\n",
       "        text-align: right;\n",
       "    }\n",
       "</style>\n",
       "<table border=\"1\" class=\"dataframe\">\n",
       "  <thead>\n",
       "    <tr style=\"text-align: right;\">\n",
       "      <th></th>\n",
       "      <th>id_x</th>\n",
       "      <th>Student ID</th>\n",
       "      <th>student_name</th>\n",
       "      <th>gender</th>\n",
       "      <th>grade</th>\n",
       "      <th>school_name</th>\n",
       "      <th>reading_score</th>\n",
       "      <th>math_score</th>\n",
       "      <th>id_y</th>\n",
       "      <th>School ID</th>\n",
       "      <th>type</th>\n",
       "      <th>size</th>\n",
       "      <th>budget</th>\n",
       "    </tr>\n",
       "  </thead>\n",
       "  <tbody>\n",
       "    <tr>\n",
       "      <th>0</th>\n",
       "      <td>0</td>\n",
       "      <td>0</td>\n",
       "      <td>Paul Bradley</td>\n",
       "      <td>M</td>\n",
       "      <td>9th</td>\n",
       "      <td>Huang High School</td>\n",
       "      <td>66</td>\n",
       "      <td>79</td>\n",
       "      <td>0</td>\n",
       "      <td>0</td>\n",
       "      <td>District</td>\n",
       "      <td>2917</td>\n",
       "      <td>1910635</td>\n",
       "    </tr>\n",
       "    <tr>\n",
       "      <th>1</th>\n",
       "      <td>1</td>\n",
       "      <td>1</td>\n",
       "      <td>Victor Smith</td>\n",
       "      <td>M</td>\n",
       "      <td>12th</td>\n",
       "      <td>Huang High School</td>\n",
       "      <td>94</td>\n",
       "      <td>61</td>\n",
       "      <td>0</td>\n",
       "      <td>0</td>\n",
       "      <td>District</td>\n",
       "      <td>2917</td>\n",
       "      <td>1910635</td>\n",
       "    </tr>\n",
       "    <tr>\n",
       "      <th>2</th>\n",
       "      <td>2</td>\n",
       "      <td>2</td>\n",
       "      <td>Kevin Rodriguez</td>\n",
       "      <td>M</td>\n",
       "      <td>12th</td>\n",
       "      <td>Huang High School</td>\n",
       "      <td>90</td>\n",
       "      <td>60</td>\n",
       "      <td>0</td>\n",
       "      <td>0</td>\n",
       "      <td>District</td>\n",
       "      <td>2917</td>\n",
       "      <td>1910635</td>\n",
       "    </tr>\n",
       "    <tr>\n",
       "      <th>3</th>\n",
       "      <td>3</td>\n",
       "      <td>3</td>\n",
       "      <td>Dr. Richard Scott</td>\n",
       "      <td>M</td>\n",
       "      <td>12th</td>\n",
       "      <td>Huang High School</td>\n",
       "      <td>67</td>\n",
       "      <td>58</td>\n",
       "      <td>0</td>\n",
       "      <td>0</td>\n",
       "      <td>District</td>\n",
       "      <td>2917</td>\n",
       "      <td>1910635</td>\n",
       "    </tr>\n",
       "    <tr>\n",
       "      <th>4</th>\n",
       "      <td>4</td>\n",
       "      <td>4</td>\n",
       "      <td>Bonnie Ray</td>\n",
       "      <td>F</td>\n",
       "      <td>9th</td>\n",
       "      <td>Huang High School</td>\n",
       "      <td>97</td>\n",
       "      <td>84</td>\n",
       "      <td>0</td>\n",
       "      <td>0</td>\n",
       "      <td>District</td>\n",
       "      <td>2917</td>\n",
       "      <td>1910635</td>\n",
       "    </tr>\n",
       "  </tbody>\n",
       "</table>\n",
       "</div>"
      ],
      "text/plain": [
       "   id_x  Student ID       student_name gender grade        school_name  \\\n",
       "0     0           0       Paul Bradley      M   9th  Huang High School   \n",
       "1     1           1       Victor Smith      M  12th  Huang High School   \n",
       "2     2           2    Kevin Rodriguez      M  12th  Huang High School   \n",
       "3     3           3  Dr. Richard Scott      M  12th  Huang High School   \n",
       "4     4           4         Bonnie Ray      F   9th  Huang High School   \n",
       "\n",
       "   reading_score  math_score  id_y  School ID      type  size   budget  \n",
       "0             66          79     0          0  District  2917  1910635  \n",
       "1             94          61     0          0  District  2917  1910635  \n",
       "2             90          60     0          0  District  2917  1910635  \n",
       "3             67          58     0          0  District  2917  1910635  \n",
       "4             97          84     0          0  District  2917  1910635  "
      ]
     },
     "execution_count": 20,
     "metadata": {},
     "output_type": "execute_result"
    }
   ],
   "source": [
    "# join the two tables into a single dataframe\n",
    "school_data_complete = pd.merge(student_data, school_data, how=\"left\", on=[\"school_name\", \"school_name\"])\n",
    "school_data_complete.head()"
   ]
  },
  {
   "cell_type": "markdown",
   "metadata": {},
   "source": [
    "## District Summary\n",
    "\n",
    "* Calculate the total number of schools\n",
    "\n",
    "* Calculate the total number of students\n",
    "\n",
    "* Calculate the total budget\n",
    "\n",
    "* Calculate the average math score \n",
    "\n",
    "* Calculate the average reading score\n",
    "\n",
    "* Calculate the overall passing rate (overall average score), i.e. (avg. math score + avg. reading score)/2\n",
    "\n",
    "* Calculate the percentage of students with a passing math score (70 or greater)\n",
    "\n",
    "* Calculate the percentage of students with a passing reading score (70 or greater)\n",
    "\n",
    "* Create a dataframe to hold the above results\n",
    "\n",
    "* Optional: give the displayed data cleaner formatting"
   ]
  },
  {
   "cell_type": "code",
   "execution_count": 34,
   "metadata": {},
   "outputs": [],
   "source": [
    "# Create a District Summary\n"
   ]
  },
  {
   "cell_type": "code",
   "execution_count": 36,
   "metadata": {},
   "outputs": [
    {
     "name": "stdout",
     "output_type": "stream",
     "text": [
      "Total number of rows in school_data: 15\n"
     ]
    }
   ],
   "source": [
    "# Total number of schools\n",
    "\n",
    "total_school_rows = school_data.shape[0]\n",
    "print(f'Total number of rows in school_data: {total_school_rows}')\n"
   ]
  },
  {
   "cell_type": "code",
   "execution_count": 71,
   "metadata": {},
   "outputs": [
    {
     "name": "stdout",
     "output_type": "stream",
     "text": [
      "Total number of rows in student_data: 39170\n"
     ]
    }
   ],
   "source": [
    "# Total number of students\n",
    "\n",
    "total_students = student_data.shape[0]\n",
    "print(f'Total number of rows in student_data: {total_students}')"
   ]
  },
  {
   "cell_type": "code",
   "execution_count": 44,
   "metadata": {},
   "outputs": [
    {
     "name": "stdout",
     "output_type": "stream",
     "text": [
      "Total budget: 24649428\n"
     ]
    }
   ],
   "source": [
    "# Total budget\n",
    "\n",
    "total_budget = school_data['budget'].sum()\n",
    "print(f'Total budget: {total_budget}')"
   ]
  },
  {
   "cell_type": "code",
   "execution_count": 54,
   "metadata": {},
   "outputs": [],
   "source": [
    "# Average math score\n",
    "\n",
    "avg_math_score = student_data['math_score'].mean()"
   ]
  },
  {
   "cell_type": "code",
   "execution_count": 55,
   "metadata": {},
   "outputs": [],
   "source": [
    "# Average reading score\n",
    "\n",
    "avg_reading_score = student_data['reading_score'].mean()"
   ]
  },
  {
   "cell_type": "code",
   "execution_count": 56,
   "metadata": {},
   "outputs": [
    {
     "name": "stdout",
     "output_type": "stream",
     "text": [
      "Overall average score: 80.43160582078121\n"
     ]
    }
   ],
   "source": [
    "# Overall average score\n",
    "\n",
    "avg_overall_score = (avg_math_score + avg_reading_score) / 2\n",
    "print(f'Overall average score: {avg_overall_score}')"
   ]
  },
  {
   "cell_type": "code",
   "execution_count": 64,
   "metadata": {},
   "outputs": [
    {
     "name": "stdout",
     "output_type": "stream",
     "text": [
      "Percentage of students passing math: 74.98%\n"
     ]
    }
   ],
   "source": [
    "# Percentage of passing math (70 or greater)\n",
    "\n",
    "passing_math = student_data[student_data['math_score']>= 70]\n",
    "passing_math_count = passing_math.shape[0]\n",
    "total_students = student_data.shape[0]\n",
    "passing_math_perc = (passing_math_count / total_students) * 100\n",
    "print(f'Percentage of students passing math: {passing_math_perc:.2f}%')\n"
   ]
  },
  {
   "cell_type": "markdown",
   "metadata": {},
   "source": [
    "## School Summary"
   ]
  },
  {
   "cell_type": "markdown",
   "metadata": {},
   "source": [
    "* Create an overview table that summarizes key metrics about each school, including:\n",
    "  * School Name\n",
    "  * School Type\n",
    "  * Total Students\n",
    "  * Total School Budget\n",
    "  * Per Student Budget\n",
    "  * Average Math Score\n",
    "  * Average Reading Score\n",
    "  * % Passing Math\n",
    "  * % Passing Reading\n",
    "  * Overall Passing Rate (Average of the above two)\n",
    "  \n",
    "* Create a dataframe to hold the above results"
   ]
  },
  {
   "cell_type": "markdown",
   "metadata": {},
   "source": [
    "### Top Performing Schools (By Passing Rate)"
   ]
  },
  {
   "cell_type": "markdown",
   "metadata": {},
   "source": [
    "* Sort and display the top five schools in overall passing rate"
   ]
  },
  {
   "cell_type": "code",
   "execution_count": 146,
   "metadata": {},
   "outputs": [
    {
     "data": {
      "text/plain": [
       "school_name\n",
       "Bailey High School      0.301447\n",
       "Cabrera High School     0.807320\n",
       "Figueroa High School    0.508647\n",
       "Ford High School        0.547645\n",
       "Griffin High School     1.021798\n",
       "dtype: float64"
      ]
     },
     "execution_count": 146,
     "metadata": {},
     "output_type": "execute_result"
    }
   ],
   "source": [
    "#  Sort and display the top five schools in overall passing rate\n",
    "\n",
    "overall_passing_rate.head(5)\n"
   ]
  },
  {
   "cell_type": "code",
   "execution_count": 69,
   "metadata": {
    "scrolled": true
   },
   "outputs": [
    {
     "name": "stdout",
     "output_type": "stream",
     "text": [
      "Total school budget: 24649428\n"
     ]
    }
   ],
   "source": [
    "# Calculate total school budget\n",
    "\n",
    "total_budget = school_data['budget'].sum()\n",
    "print(f'Total school budget: {total_budget}')"
   ]
  },
  {
   "cell_type": "code",
   "execution_count": 73,
   "metadata": {},
   "outputs": [
    {
     "name": "stdout",
     "output_type": "stream",
     "text": [
      "Budget per student: 629.2935409752362\n"
     ]
    }
   ],
   "source": [
    "# Calculate per student budget\n",
    "\n",
    "total_budget = school_data['budget'].sum()\n",
    "total_students = school_data['size'].sum()\n",
    "per_student_budget = total_budget / total_students\n",
    "print(f'Budget per student: {per_student_budget}')\n"
   ]
  },
  {
   "cell_type": "code",
   "execution_count": 74,
   "metadata": {},
   "outputs": [
    {
     "name": "stdout",
     "output_type": "stream",
     "text": [
      "Overall average score: 80.43160582078121\n"
     ]
    }
   ],
   "source": [
    "# Cacluate the avg math and reading score\n",
    "\n",
    "avg_overall_score = (avg_math_score + avg_reading_score) / 2\n",
    "print(f'Overall average score: {avg_overall_score}')\n"
   ]
  },
  {
   "cell_type": "markdown",
   "metadata": {},
   "source": [
    "#### Find the passing rate for math and reading (above 70 points)"
   ]
  },
  {
   "cell_type": "code",
   "execution_count": 89,
   "metadata": {},
   "outputs": [
    {
     "name": "stdout",
     "output_type": "stream",
     "text": [
      "Percentage of students passing math: 74.98%\n"
     ]
    }
   ],
   "source": [
    "# Find the total counts of math result\n",
    "\n",
    "total_math_count = student_data.shape[0]\n",
    "\n",
    "# Find the counts for math result in each school that pass 70 or higher\n",
    "\n",
    "passing_math = student_data[student_data['math_score']>= 70]\n",
    "passing_math_count = passing_math.groupby('school_name').size()\n",
    "\n",
    "# Calculate the math passing rate\n",
    "\n",
    "passing_math_count = passing_math.shape[0]\n",
    "passing_math_rate = (passing_math_count / total_students) * 100\n",
    "print(f'Percentage of students passing math: {passing_math_rate:.2f}%')"
   ]
  },
  {
   "cell_type": "code",
   "execution_count": 91,
   "metadata": {},
   "outputs": [
    {
     "name": "stdout",
     "output_type": "stream",
     "text": [
      "Percentage of students passing reading: 85.81%\n"
     ]
    }
   ],
   "source": [
    "# Find the total counts of read result\n",
    "\n",
    "total_reading_count = student_data.shape[0]\n",
    "\n",
    "# Find the counts for read result in each school that pass 70 or higher\n",
    "\n",
    "passing_reading = student_data[student_data['reading_score'] >= 70]\n",
    "passing_reading_count = passing_reading.groupby('school_name').size()\n",
    "\n",
    "# Calculate the read passing rate\n",
    "\n",
    "passing_reading_count = passing_reading.shape[0]\n",
    "passing_reading_rate = (passing_reading_count / total_students) * 100\n",
    "print(f'Percentage of students passing reading: {passing_reading_rate:.2f}%')"
   ]
  },
  {
   "cell_type": "code",
   "execution_count": 111,
   "metadata": {},
   "outputs": [
    {
     "name": "stdout",
     "output_type": "stream",
     "text": [
      "Overall Passing Rate: 80.39%\n"
     ]
    }
   ],
   "source": [
    "# Calculate the overall passing rate (average of the math and reading passing rate)\n",
    "total_students = student_data.shape[0]\n",
    "passing_math = student_data[student_data['math_score'] >= 70]\n",
    "passing_reading = student_data[student_data['reading_score'] >= 70]\n",
    "math_passing_rate = (passing_math.shape[0] / total_students) * 100\n",
    "reading_passing_rate = (passing_reading.shape[0] / total_students) * 100\n",
    "\n",
    "# Calculate overall passing rate as the average of math and reading passing rates\n",
    "overall_passing_rate = (math_passing_rate + reading_passing_rate) / 2\n",
    "print(f'Overall Passing Rate: {overall_passing_rate:.2f}%')\n"
   ]
  },
  {
   "cell_type": "code",
   "execution_count": 147,
   "metadata": {
    "scrolled": true
   },
   "outputs": [
    {
     "data": {
      "text/plain": [
       "school_name\n",
       "Bailey High School      0.301447\n",
       "Cabrera High School     0.807320\n",
       "Figueroa High School    0.508647\n",
       "Ford High School        0.547645\n",
       "Griffin High School     1.021798\n",
       "dtype: float64"
      ]
     },
     "execution_count": 147,
     "metadata": {},
     "output_type": "execute_result"
    }
   ],
   "source": [
    "overall_passing_rate.tail(5)"
   ]
  },
  {
   "cell_type": "markdown",
   "metadata": {},
   "source": [
    "### Bottom Performing Schools (By Passing Rate)"
   ]
  },
  {
   "cell_type": "markdown",
   "metadata": {},
   "source": [
    "* Sort and display the five worst-performing schools"
   ]
  },
  {
   "cell_type": "code",
   "execution_count": 161,
   "metadata": {},
   "outputs": [
    {
     "name": "stdout",
     "output_type": "stream",
     "text": [
      "Overall Failing Rate: 0.87%\n"
     ]
    }
   ],
   "source": [
    "#  Sort and display the worst five schools in overall passing rate\n",
    "total_students = student_data.groupby('school_name').size()\n",
    "\n",
    "passing_math = student_data[student_data['math_score'] >= 70].groupby('school_name').size()\n",
    "passing_reading = student_data[student_data['reading_score'] >= 70].groupby('school_name').size()\n",
    "\n",
    "math_passing_rate = (passing_math.shape[0] / total_students) * 100\n",
    "reading_passing_rate = (passing_reading.shape[0] / total_students) * 100\n",
    "\n",
    "\n",
    "# Calculate overall passing rate as the average of math and reading passing rates\n",
    "overall_passing_rate = (math_passing_rate + reading_passing_rate) / 2\n",
    "overall_passing_df = pd.DataFrame({'Math Passing Rate': math_passing_rate,\n",
    "    'Reading Passing Rate': reading_passing_rate,\n",
    "    'Overall Passing Rate': overall_passing_rate\n",
    "})\n",
    "worst_five_schools = overall_passing_df.sort_values(by='Overall Passing Rate').tail(5)\n",
    "print(f'Overall Failing Rate: {overall_failing_rate.mean():.2f}%')\n"
   ]
  },
  {
   "cell_type": "code",
   "execution_count": 147,
   "metadata": {
    "scrolled": true
   },
   "outputs": [
    {
     "data": {
      "text/plain": [
       "school_name\n",
       "Bailey High School      0.301447\n",
       "Cabrera High School     0.807320\n",
       "Figueroa High School    0.508647\n",
       "Ford High School        0.547645\n",
       "Griffin High School     1.021798\n",
       "dtype: float64"
      ]
     },
     "execution_count": 147,
     "metadata": {},
     "output_type": "execute_result"
    }
   ],
   "source": [
    "overall_passing_rate.tail(5)"
   ]
  },
  {
   "cell_type": "markdown",
   "metadata": {
    "collapsed": true,
    "jupyter": {
     "outputs_hidden": true
    }
   },
   "source": [
    "## Math Scores by Grade"
   ]
  },
  {
   "cell_type": "markdown",
   "metadata": {},
   "source": [
    "* Create a table that lists the average Reading Score for students of each grade level (9th, 10th, 11th, 12th) at each school.\n",
    "\n",
    "  * Create a pandas series for each grade. Hint: use a conditional statement.\n",
    "  \n",
    "  * Group each series by school\n",
    "  \n",
    "  * Combine the series into a dataframe\n",
    "  \n",
    "  * Optional: give the displayed data cleaner formatting"
   ]
  },
  {
   "cell_type": "code",
   "execution_count": 121,
   "metadata": {},
   "outputs": [
    {
     "name": "stdout",
     "output_type": "stream",
     "text": [
      "Average Math Scores by School and Grade Level:\n",
      "grade            school_name       10th       11th       12th        9th\n",
      "0         Bailey High School  76.996772  77.515588  76.492218  77.083676\n",
      "1        Cabrera High School  83.154506  82.765560  83.277487  83.094697\n",
      "2       Figueroa High School  76.539974  76.884344  77.151369  76.403037\n",
      "3           Ford High School  77.672316  76.918058  76.179963  77.361345\n",
      "4        Griffin High School  84.229064  83.842105  83.356164  82.044010\n",
      "5      Hernandez High School  77.337408  77.136029  77.186567  77.438495\n",
      "6         Holden High School  83.429825  85.000000  82.855422  83.787402\n",
      "7          Huang High School  75.908735  76.446602  77.225641  77.027251\n",
      "8        Johnson High School  76.691117  77.491653  76.863248  77.187857\n",
      "9           Pena High School  83.372000  84.328125  84.121547  83.625455\n",
      "10     Rodriguez High School  76.612500  76.395626  77.690748  76.859966\n",
      "11       Shelton High School  82.917411  83.383495  83.778976  83.420755\n",
      "12        Thomas High School  83.087886  83.498795  83.497041  83.590022\n",
      "13        Wilson High School  83.724422  83.195326  83.035794  83.085578\n",
      "14        Wright High School  84.010288  83.836782  83.644986  83.264706\n"
     ]
    }
   ],
   "source": [
    "# Create table that lists the average math score for each school of each grade level.\n",
    "\n",
    "avg_math_scores = student_data.groupby(['school_name', 'grade'])['math_score'].mean().reset_index()\n",
    "avg_math_scores_pivot = avg_math_scores.pivot(index='school_name', columns='grade', values='math_score')\n",
    "avg_math_scores_pivot.reset_index(inplace=True)\n",
    "print(\"Average Math Scores by School and Grade Level:\")\n",
    "print(avg_math_scores_pivot)\n"
   ]
  },
  {
   "cell_type": "code",
   "execution_count": 125,
   "metadata": {},
   "outputs": [
    {
     "name": "stdout",
     "output_type": "stream",
     "text": [
      "Average Math Scores for 9th Grade by School:\n",
      "              school_name  avg_9thmath_score\n",
      "0      Bailey High School          77.083676\n",
      "1     Cabrera High School          83.094697\n",
      "2    Figueroa High School          76.403037\n",
      "3        Ford High School          77.361345\n",
      "4     Griffin High School          82.044010\n",
      "5   Hernandez High School          77.438495\n",
      "6      Holden High School          83.787402\n",
      "7       Huang High School          77.027251\n",
      "8     Johnson High School          77.187857\n",
      "9        Pena High School          83.625455\n",
      "10  Rodriguez High School          76.859966\n",
      "11    Shelton High School          83.420755\n",
      "12     Thomas High School          83.590022\n",
      "13     Wilson High School          83.085578\n",
      "14     Wright High School          83.264706\n"
     ]
    }
   ],
   "source": [
    "# Calculate the average math score for 9th grade in each school\n",
    "\n",
    "ninthgrade_data = student_data[student_data['grade'] == '9th']\n",
    "avg_9thmath_scores = ninthgrade_data.groupby('school_name')['math_score'].mean().reset_index()\n",
    "avg_9thmath_scores.columns = ['school_name', 'avg_9thmath_score']\n",
    "print(\"Average Math Scores for 9th Grade by School:\")\n",
    "print(avg_9thmath_scores)\n"
   ]
  },
  {
   "cell_type": "code",
   "execution_count": 126,
   "metadata": {},
   "outputs": [
    {
     "name": "stdout",
     "output_type": "stream",
     "text": [
      "Average Math Scores for 10th Grade by School:\n",
      "              school_name  avg_10thmath_score\n",
      "0      Bailey High School           76.996772\n",
      "1     Cabrera High School           83.154506\n",
      "2    Figueroa High School           76.539974\n",
      "3        Ford High School           77.672316\n",
      "4     Griffin High School           84.229064\n",
      "5   Hernandez High School           77.337408\n",
      "6      Holden High School           83.429825\n",
      "7       Huang High School           75.908735\n",
      "8     Johnson High School           76.691117\n",
      "9        Pena High School           83.372000\n",
      "10  Rodriguez High School           76.612500\n",
      "11    Shelton High School           82.917411\n",
      "12     Thomas High School           83.087886\n",
      "13     Wilson High School           83.724422\n",
      "14     Wright High School           84.010288\n"
     ]
    }
   ],
   "source": [
    "# Calculate the average math score for 10th grade in each school\n",
    "\n",
    "tenthgrade_data = student_data[student_data['grade'] == '10th']\n",
    "avg_10thmath_scores = tenthgrade_data.groupby('school_name')['math_score'].mean().reset_index()\n",
    "avg_10thmath_scores.columns = ['school_name', 'avg_10thmath_score']\n",
    "print(\"Average Math Scores for 10th Grade by School:\")\n",
    "print(avg_10thmath_scores)\n"
   ]
  },
  {
   "cell_type": "code",
   "execution_count": 127,
   "metadata": {},
   "outputs": [
    {
     "name": "stdout",
     "output_type": "stream",
     "text": [
      "Average Math Scores for 11th Grade by School:\n",
      "              school_name  avg_11thmath_score\n",
      "0      Bailey High School           77.515588\n",
      "1     Cabrera High School           82.765560\n",
      "2    Figueroa High School           76.884344\n",
      "3        Ford High School           76.918058\n",
      "4     Griffin High School           83.842105\n",
      "5   Hernandez High School           77.136029\n",
      "6      Holden High School           85.000000\n",
      "7       Huang High School           76.446602\n",
      "8     Johnson High School           77.491653\n",
      "9        Pena High School           84.328125\n",
      "10  Rodriguez High School           76.395626\n",
      "11    Shelton High School           83.383495\n",
      "12     Thomas High School           83.498795\n",
      "13     Wilson High School           83.195326\n",
      "14     Wright High School           83.836782\n"
     ]
    }
   ],
   "source": [
    "# Calculate the average math score for 11th grade in each school\n",
    "\n",
    "eleventhgrade_data = student_data[student_data['grade'] == '11th']\n",
    "avg_11thmath_scores = eleventhgrade_data.groupby('school_name')['math_score'].mean().reset_index()\n",
    "avg_11thmath_scores.columns = ['school_name', 'avg_11thmath_score']\n",
    "print(\"Average Math Scores for 11th Grade by School:\")\n",
    "print(avg_11thmath_scores)\n"
   ]
  },
  {
   "cell_type": "code",
   "execution_count": 134,
   "metadata": {},
   "outputs": [
    {
     "name": "stdout",
     "output_type": "stream",
     "text": [
      "Average Math Scores for 12th Grade by School:\n",
      "              school_name  avg_12thmath_score\n",
      "0      Bailey High School           76.492218\n",
      "1     Cabrera High School           83.277487\n",
      "2    Figueroa High School           77.151369\n",
      "3        Ford High School           76.179963\n",
      "4     Griffin High School           83.356164\n",
      "5   Hernandez High School           77.186567\n",
      "6      Holden High School           82.855422\n",
      "7       Huang High School           77.225641\n",
      "8     Johnson High School           76.863248\n",
      "9        Pena High School           84.121547\n",
      "10  Rodriguez High School           77.690748\n",
      "11    Shelton High School           83.778976\n",
      "12     Thomas High School           83.497041\n",
      "13     Wilson High School           83.035794\n",
      "14     Wright High School           83.644986\n"
     ]
    }
   ],
   "source": [
    "# Calculate the average math score for 12th grade in each school\n",
    "\n",
    "twelfthgrade_data = student_data[student_data['grade'] == '12th']\n",
    "avg_12thmath_scores = twelfthgrade_data.groupby('school_name')['math_score'].mean().reset_index()\n",
    "avg_12thmath_scores.columns = ['school_name', 'avg_12thmath_score']\n",
    "print(\"Average Math Scores for 12th Grade by School:\")\n",
    "print(avg_12thmath_scores)\n"
   ]
  },
  {
   "cell_type": "markdown",
   "metadata": {},
   "source": [
    "### Reading Score by Grade "
   ]
  },
  {
   "cell_type": "markdown",
   "metadata": {},
   "source": [
    "* Perform the same operations as above for reading scores"
   ]
  },
  {
   "cell_type": "code",
   "execution_count": 129,
   "metadata": {},
   "outputs": [
    {
     "name": "stdout",
     "output_type": "stream",
     "text": [
      "Average Reading Scores by School and Grade Level:\n",
      "grade            school_name       10th       11th       12th        9th\n",
      "0         Bailey High School  80.907183  80.945643  80.912451  81.303155\n",
      "1        Cabrera High School  84.253219  83.788382  84.287958  83.676136\n",
      "2       Figueroa High School  81.408912  80.640339  81.384863  81.198598\n",
      "3           Ford High School  81.262712  80.403642  80.662338  80.632653\n",
      "4        Griffin High School  83.706897  84.288089  84.013699  83.369193\n",
      "5      Hernandez High School  80.660147  81.396140  80.857143  80.866860\n",
      "6         Holden High School  83.324561  83.815534  84.698795  83.677165\n",
      "7          Huang High School  81.512386  81.417476  80.305983  81.290284\n",
      "8        Johnson High School  80.773431  80.616027  81.227564  81.260714\n",
      "9           Pena High School  83.612000  84.335938  84.591160  83.807273\n",
      "10     Rodriguez High School  80.629808  80.864811  80.376426  80.993127\n",
      "11       Shelton High School  83.441964  84.373786  82.781671  84.122642\n",
      "12        Thomas High School  84.254157  83.585542  83.831361  83.728850\n",
      "13        Wilson High School  84.021452  83.764608  84.317673  83.939778\n",
      "14        Wright High School  83.812757  84.156322  84.073171  83.833333\n"
     ]
    }
   ],
   "source": [
    "# Create table that lists the average reading score for each school of each grade level.\n",
    "\n",
    "avg_reading_scores = student_data.groupby(['school_name', 'grade'])['reading_score'].mean().reset_index()\n",
    "avg_reading_scores_pivot = avg_reading_scores.pivot(index='school_name', columns='grade', values='reading_score')\n",
    "avg_reading_scores_pivot.reset_index(inplace=True)\n",
    "print(\"Average Reading Scores by School and Grade Level:\")\n",
    "print(avg_reading_scores_pivot)"
   ]
  },
  {
   "cell_type": "code",
   "execution_count": 130,
   "metadata": {},
   "outputs": [
    {
     "name": "stdout",
     "output_type": "stream",
     "text": [
      "Average Reading Scores for 9th Grade by School:\n",
      "              school_name  avg_9threading_score\n",
      "0      Bailey High School             81.303155\n",
      "1     Cabrera High School             83.676136\n",
      "2    Figueroa High School             81.198598\n",
      "3        Ford High School             80.632653\n",
      "4     Griffin High School             83.369193\n",
      "5   Hernandez High School             80.866860\n",
      "6      Holden High School             83.677165\n",
      "7       Huang High School             81.290284\n",
      "8     Johnson High School             81.260714\n",
      "9        Pena High School             83.807273\n",
      "10  Rodriguez High School             80.993127\n",
      "11    Shelton High School             84.122642\n",
      "12     Thomas High School             83.728850\n",
      "13     Wilson High School             83.939778\n",
      "14     Wright High School             83.833333\n"
     ]
    }
   ],
   "source": [
    "# Calculate the average reading score for 9th grade in each school\n",
    "\n",
    "ninthgrade_data = student_data[student_data['grade'] == '9th']\n",
    "avg_9threading_scores = ninthgrade_data.groupby('school_name')['reading_score'].mean().reset_index()\n",
    "avg_9threading_scores.columns = ['school_name', 'avg_9threading_score']\n",
    "print(\"Average Reading Scores for 9th Grade by School:\")\n",
    "print(avg_9threading_scores)\n"
   ]
  },
  {
   "cell_type": "code",
   "execution_count": 131,
   "metadata": {},
   "outputs": [
    {
     "name": "stdout",
     "output_type": "stream",
     "text": [
      "Average Reading Scores for 10th Grade by School:\n",
      "              school_name  avg_10threading_score\n",
      "0      Bailey High School              80.907183\n",
      "1     Cabrera High School              84.253219\n",
      "2    Figueroa High School              81.408912\n",
      "3        Ford High School              81.262712\n",
      "4     Griffin High School              83.706897\n",
      "5   Hernandez High School              80.660147\n",
      "6      Holden High School              83.324561\n",
      "7       Huang High School              81.512386\n",
      "8     Johnson High School              80.773431\n",
      "9        Pena High School              83.612000\n",
      "10  Rodriguez High School              80.629808\n",
      "11    Shelton High School              83.441964\n",
      "12     Thomas High School              84.254157\n",
      "13     Wilson High School              84.021452\n",
      "14     Wright High School              83.812757\n"
     ]
    }
   ],
   "source": [
    "# Calculate the average reading score for 10th grade in each school\n",
    "\n",
    "tenthgrade_data = student_data[student_data['grade'] == '10th']\n",
    "avg_10threading_scores = tenthgrade_data.groupby('school_name')['reading_score'].mean().reset_index()\n",
    "avg_10threading_scores.columns = ['school_name', 'avg_10threading_score']\n",
    "print(\"Average Reading Scores for 10th Grade by School:\")\n",
    "print(avg_10threading_scores)\n"
   ]
  },
  {
   "cell_type": "code",
   "execution_count": 132,
   "metadata": {},
   "outputs": [
    {
     "name": "stdout",
     "output_type": "stream",
     "text": [
      "Average Reading Scores for 11th Grade by School:\n",
      "              school_name  avg_11threading_score\n",
      "0      Bailey High School              80.945643\n",
      "1     Cabrera High School              83.788382\n",
      "2    Figueroa High School              80.640339\n",
      "3        Ford High School              80.403642\n",
      "4     Griffin High School              84.288089\n",
      "5   Hernandez High School              81.396140\n",
      "6      Holden High School              83.815534\n",
      "7       Huang High School              81.417476\n",
      "8     Johnson High School              80.616027\n",
      "9        Pena High School              84.335938\n",
      "10  Rodriguez High School              80.864811\n",
      "11    Shelton High School              84.373786\n",
      "12     Thomas High School              83.585542\n",
      "13     Wilson High School              83.764608\n",
      "14     Wright High School              84.156322\n"
     ]
    }
   ],
   "source": [
    "# Calculate the average reading score for 11th grade in each school\n",
    "\n",
    "eleventhgrade_data = student_data[student_data['grade'] == '11th']\n",
    "avg_11threading_scores = eleventhgrade_data.groupby('school_name')['reading_score'].mean().reset_index()\n",
    "avg_11threading_scores.columns = ['school_name', 'avg_11threading_score']\n",
    "print(\"Average Reading Scores for 11th Grade by School:\")\n",
    "print(avg_11threading_scores)\n",
    "\n"
   ]
  },
  {
   "cell_type": "code",
   "execution_count": 143,
   "metadata": {},
   "outputs": [
    {
     "name": "stdout",
     "output_type": "stream",
     "text": [
      "Average Reading Scores for 12th Grade by School:\n",
      "              school_name  avg_12threading_score\n",
      "0      Bailey High School              80.912451\n",
      "1     Cabrera High School              84.287958\n",
      "2    Figueroa High School              81.384863\n",
      "3        Ford High School              80.662338\n",
      "4     Griffin High School              84.013699\n",
      "5   Hernandez High School              80.857143\n",
      "6      Holden High School              84.698795\n",
      "7       Huang High School              80.305983\n",
      "8     Johnson High School              81.227564\n",
      "9        Pena High School              84.591160\n",
      "10  Rodriguez High School              80.376426\n",
      "11    Shelton High School              82.781671\n",
      "12     Thomas High School              83.831361\n",
      "13     Wilson High School              84.317673\n",
      "14     Wright High School              84.073171\n"
     ]
    }
   ],
   "source": [
    "# Calculate the average reading score for 12th grade in each school\n",
    "\n",
    "twelfthgrade_data = student_data[student_data['grade'] == '12th']\n",
    "avg_12threading_scores = twelfthgrade_data.groupby('school_name')['reading_score'].mean().reset_index()\n",
    "avg_12threading_scores.columns = ['school_name', 'avg_12threading_score']\n",
    "print(\"Average Reading Scores for 12th Grade by School:\")\n",
    "print(avg_12threading_scores)\n"
   ]
  },
  {
   "cell_type": "markdown",
   "metadata": {},
   "source": [
    "## Scores by School Spending"
   ]
  },
  {
   "cell_type": "markdown",
   "metadata": {},
   "source": [
    "* Create a table that breaks down school performances based on average Spending Ranges (Per Student). Use 4 reasonable bins to group school spending. Include in the table each of the following:\n",
    "  * Average Math Score\n",
    "  * Average Reading Score\n",
    "  * % Passing Math\n",
    "  * % Passing Reading\n",
    "  * Overall Passing Rate (Average of the above two)"
   ]
  },
  {
   "cell_type": "code",
   "execution_count": 18,
   "metadata": {},
   "outputs": [
    {
     "ename": "FileNotFoundError",
     "evalue": "[Errno 2] No such file or directory: 'path_to_file.csv'",
     "output_type": "error",
     "traceback": [
      "\u001b[0;31m---------------------------------------------------------------------------\u001b[0m",
      "\u001b[0;31mFileNotFoundError\u001b[0m                         Traceback (most recent call last)",
      "Cell \u001b[0;32mIn[18], line 2\u001b[0m\n\u001b[1;32m      1\u001b[0m \u001b[38;5;28;01mimport\u001b[39;00m \u001b[38;5;21;01mpandas\u001b[39;00m \u001b[38;5;28;01mas\u001b[39;00m \u001b[38;5;21;01mpd\u001b[39;00m\n\u001b[0;32m----> 2\u001b[0m student_data \u001b[38;5;241m=\u001b[39m \u001b[43mpd\u001b[49m\u001b[38;5;241;43m.\u001b[39;49m\u001b[43mread_csv\u001b[49m\u001b[43m(\u001b[49m\u001b[38;5;124;43m'\u001b[39;49m\u001b[38;5;124;43mpath_to_file.csv\u001b[39;49m\u001b[38;5;124;43m'\u001b[39;49m\u001b[43m)\u001b[49m\n\u001b[1;32m      3\u001b[0m \u001b[38;5;66;03m# Sample bins. Feel free to create your own bins.\u001b[39;00m\n\u001b[1;32m      4\u001b[0m spending_bins \u001b[38;5;241m=\u001b[39m [\u001b[38;5;241m0\u001b[39m, \u001b[38;5;241m585\u001b[39m, \u001b[38;5;241m615\u001b[39m, \u001b[38;5;241m645\u001b[39m, \u001b[38;5;241m675\u001b[39m]\n",
      "File \u001b[0;32m/Library/Frameworks/Python.framework/Versions/3.12/lib/python3.12/site-packages/pandas/io/parsers/readers.py:1026\u001b[0m, in \u001b[0;36mread_csv\u001b[0;34m(filepath_or_buffer, sep, delimiter, header, names, index_col, usecols, dtype, engine, converters, true_values, false_values, skipinitialspace, skiprows, skipfooter, nrows, na_values, keep_default_na, na_filter, verbose, skip_blank_lines, parse_dates, infer_datetime_format, keep_date_col, date_parser, date_format, dayfirst, cache_dates, iterator, chunksize, compression, thousands, decimal, lineterminator, quotechar, quoting, doublequote, escapechar, comment, encoding, encoding_errors, dialect, on_bad_lines, delim_whitespace, low_memory, memory_map, float_precision, storage_options, dtype_backend)\u001b[0m\n\u001b[1;32m   1013\u001b[0m kwds_defaults \u001b[38;5;241m=\u001b[39m _refine_defaults_read(\n\u001b[1;32m   1014\u001b[0m     dialect,\n\u001b[1;32m   1015\u001b[0m     delimiter,\n\u001b[0;32m   (...)\u001b[0m\n\u001b[1;32m   1022\u001b[0m     dtype_backend\u001b[38;5;241m=\u001b[39mdtype_backend,\n\u001b[1;32m   1023\u001b[0m )\n\u001b[1;32m   1024\u001b[0m kwds\u001b[38;5;241m.\u001b[39mupdate(kwds_defaults)\n\u001b[0;32m-> 1026\u001b[0m \u001b[38;5;28;01mreturn\u001b[39;00m \u001b[43m_read\u001b[49m\u001b[43m(\u001b[49m\u001b[43mfilepath_or_buffer\u001b[49m\u001b[43m,\u001b[49m\u001b[43m \u001b[49m\u001b[43mkwds\u001b[49m\u001b[43m)\u001b[49m\n",
      "File \u001b[0;32m/Library/Frameworks/Python.framework/Versions/3.12/lib/python3.12/site-packages/pandas/io/parsers/readers.py:620\u001b[0m, in \u001b[0;36m_read\u001b[0;34m(filepath_or_buffer, kwds)\u001b[0m\n\u001b[1;32m    617\u001b[0m _validate_names(kwds\u001b[38;5;241m.\u001b[39mget(\u001b[38;5;124m\"\u001b[39m\u001b[38;5;124mnames\u001b[39m\u001b[38;5;124m\"\u001b[39m, \u001b[38;5;28;01mNone\u001b[39;00m))\n\u001b[1;32m    619\u001b[0m \u001b[38;5;66;03m# Create the parser.\u001b[39;00m\n\u001b[0;32m--> 620\u001b[0m parser \u001b[38;5;241m=\u001b[39m \u001b[43mTextFileReader\u001b[49m\u001b[43m(\u001b[49m\u001b[43mfilepath_or_buffer\u001b[49m\u001b[43m,\u001b[49m\u001b[43m \u001b[49m\u001b[38;5;241;43m*\u001b[39;49m\u001b[38;5;241;43m*\u001b[39;49m\u001b[43mkwds\u001b[49m\u001b[43m)\u001b[49m\n\u001b[1;32m    622\u001b[0m \u001b[38;5;28;01mif\u001b[39;00m chunksize \u001b[38;5;129;01mor\u001b[39;00m iterator:\n\u001b[1;32m    623\u001b[0m     \u001b[38;5;28;01mreturn\u001b[39;00m parser\n",
      "File \u001b[0;32m/Library/Frameworks/Python.framework/Versions/3.12/lib/python3.12/site-packages/pandas/io/parsers/readers.py:1620\u001b[0m, in \u001b[0;36mTextFileReader.__init__\u001b[0;34m(self, f, engine, **kwds)\u001b[0m\n\u001b[1;32m   1617\u001b[0m     \u001b[38;5;28mself\u001b[39m\u001b[38;5;241m.\u001b[39moptions[\u001b[38;5;124m\"\u001b[39m\u001b[38;5;124mhas_index_names\u001b[39m\u001b[38;5;124m\"\u001b[39m] \u001b[38;5;241m=\u001b[39m kwds[\u001b[38;5;124m\"\u001b[39m\u001b[38;5;124mhas_index_names\u001b[39m\u001b[38;5;124m\"\u001b[39m]\n\u001b[1;32m   1619\u001b[0m \u001b[38;5;28mself\u001b[39m\u001b[38;5;241m.\u001b[39mhandles: IOHandles \u001b[38;5;241m|\u001b[39m \u001b[38;5;28;01mNone\u001b[39;00m \u001b[38;5;241m=\u001b[39m \u001b[38;5;28;01mNone\u001b[39;00m\n\u001b[0;32m-> 1620\u001b[0m \u001b[38;5;28mself\u001b[39m\u001b[38;5;241m.\u001b[39m_engine \u001b[38;5;241m=\u001b[39m \u001b[38;5;28;43mself\u001b[39;49m\u001b[38;5;241;43m.\u001b[39;49m\u001b[43m_make_engine\u001b[49m\u001b[43m(\u001b[49m\u001b[43mf\u001b[49m\u001b[43m,\u001b[49m\u001b[43m \u001b[49m\u001b[38;5;28;43mself\u001b[39;49m\u001b[38;5;241;43m.\u001b[39;49m\u001b[43mengine\u001b[49m\u001b[43m)\u001b[49m\n",
      "File \u001b[0;32m/Library/Frameworks/Python.framework/Versions/3.12/lib/python3.12/site-packages/pandas/io/parsers/readers.py:1880\u001b[0m, in \u001b[0;36mTextFileReader._make_engine\u001b[0;34m(self, f, engine)\u001b[0m\n\u001b[1;32m   1878\u001b[0m     \u001b[38;5;28;01mif\u001b[39;00m \u001b[38;5;124m\"\u001b[39m\u001b[38;5;124mb\u001b[39m\u001b[38;5;124m\"\u001b[39m \u001b[38;5;129;01mnot\u001b[39;00m \u001b[38;5;129;01min\u001b[39;00m mode:\n\u001b[1;32m   1879\u001b[0m         mode \u001b[38;5;241m+\u001b[39m\u001b[38;5;241m=\u001b[39m \u001b[38;5;124m\"\u001b[39m\u001b[38;5;124mb\u001b[39m\u001b[38;5;124m\"\u001b[39m\n\u001b[0;32m-> 1880\u001b[0m \u001b[38;5;28mself\u001b[39m\u001b[38;5;241m.\u001b[39mhandles \u001b[38;5;241m=\u001b[39m \u001b[43mget_handle\u001b[49m\u001b[43m(\u001b[49m\n\u001b[1;32m   1881\u001b[0m \u001b[43m    \u001b[49m\u001b[43mf\u001b[49m\u001b[43m,\u001b[49m\n\u001b[1;32m   1882\u001b[0m \u001b[43m    \u001b[49m\u001b[43mmode\u001b[49m\u001b[43m,\u001b[49m\n\u001b[1;32m   1883\u001b[0m \u001b[43m    \u001b[49m\u001b[43mencoding\u001b[49m\u001b[38;5;241;43m=\u001b[39;49m\u001b[38;5;28;43mself\u001b[39;49m\u001b[38;5;241;43m.\u001b[39;49m\u001b[43moptions\u001b[49m\u001b[38;5;241;43m.\u001b[39;49m\u001b[43mget\u001b[49m\u001b[43m(\u001b[49m\u001b[38;5;124;43m\"\u001b[39;49m\u001b[38;5;124;43mencoding\u001b[39;49m\u001b[38;5;124;43m\"\u001b[39;49m\u001b[43m,\u001b[49m\u001b[43m \u001b[49m\u001b[38;5;28;43;01mNone\u001b[39;49;00m\u001b[43m)\u001b[49m\u001b[43m,\u001b[49m\n\u001b[1;32m   1884\u001b[0m \u001b[43m    \u001b[49m\u001b[43mcompression\u001b[49m\u001b[38;5;241;43m=\u001b[39;49m\u001b[38;5;28;43mself\u001b[39;49m\u001b[38;5;241;43m.\u001b[39;49m\u001b[43moptions\u001b[49m\u001b[38;5;241;43m.\u001b[39;49m\u001b[43mget\u001b[49m\u001b[43m(\u001b[49m\u001b[38;5;124;43m\"\u001b[39;49m\u001b[38;5;124;43mcompression\u001b[39;49m\u001b[38;5;124;43m\"\u001b[39;49m\u001b[43m,\u001b[49m\u001b[43m \u001b[49m\u001b[38;5;28;43;01mNone\u001b[39;49;00m\u001b[43m)\u001b[49m\u001b[43m,\u001b[49m\n\u001b[1;32m   1885\u001b[0m \u001b[43m    \u001b[49m\u001b[43mmemory_map\u001b[49m\u001b[38;5;241;43m=\u001b[39;49m\u001b[38;5;28;43mself\u001b[39;49m\u001b[38;5;241;43m.\u001b[39;49m\u001b[43moptions\u001b[49m\u001b[38;5;241;43m.\u001b[39;49m\u001b[43mget\u001b[49m\u001b[43m(\u001b[49m\u001b[38;5;124;43m\"\u001b[39;49m\u001b[38;5;124;43mmemory_map\u001b[39;49m\u001b[38;5;124;43m\"\u001b[39;49m\u001b[43m,\u001b[49m\u001b[43m \u001b[49m\u001b[38;5;28;43;01mFalse\u001b[39;49;00m\u001b[43m)\u001b[49m\u001b[43m,\u001b[49m\n\u001b[1;32m   1886\u001b[0m \u001b[43m    \u001b[49m\u001b[43mis_text\u001b[49m\u001b[38;5;241;43m=\u001b[39;49m\u001b[43mis_text\u001b[49m\u001b[43m,\u001b[49m\n\u001b[1;32m   1887\u001b[0m \u001b[43m    \u001b[49m\u001b[43merrors\u001b[49m\u001b[38;5;241;43m=\u001b[39;49m\u001b[38;5;28;43mself\u001b[39;49m\u001b[38;5;241;43m.\u001b[39;49m\u001b[43moptions\u001b[49m\u001b[38;5;241;43m.\u001b[39;49m\u001b[43mget\u001b[49m\u001b[43m(\u001b[49m\u001b[38;5;124;43m\"\u001b[39;49m\u001b[38;5;124;43mencoding_errors\u001b[39;49m\u001b[38;5;124;43m\"\u001b[39;49m\u001b[43m,\u001b[49m\u001b[43m \u001b[49m\u001b[38;5;124;43m\"\u001b[39;49m\u001b[38;5;124;43mstrict\u001b[39;49m\u001b[38;5;124;43m\"\u001b[39;49m\u001b[43m)\u001b[49m\u001b[43m,\u001b[49m\n\u001b[1;32m   1888\u001b[0m \u001b[43m    \u001b[49m\u001b[43mstorage_options\u001b[49m\u001b[38;5;241;43m=\u001b[39;49m\u001b[38;5;28;43mself\u001b[39;49m\u001b[38;5;241;43m.\u001b[39;49m\u001b[43moptions\u001b[49m\u001b[38;5;241;43m.\u001b[39;49m\u001b[43mget\u001b[49m\u001b[43m(\u001b[49m\u001b[38;5;124;43m\"\u001b[39;49m\u001b[38;5;124;43mstorage_options\u001b[39;49m\u001b[38;5;124;43m\"\u001b[39;49m\u001b[43m,\u001b[49m\u001b[43m \u001b[49m\u001b[38;5;28;43;01mNone\u001b[39;49;00m\u001b[43m)\u001b[49m\u001b[43m,\u001b[49m\n\u001b[1;32m   1889\u001b[0m \u001b[43m\u001b[49m\u001b[43m)\u001b[49m\n\u001b[1;32m   1890\u001b[0m \u001b[38;5;28;01massert\u001b[39;00m \u001b[38;5;28mself\u001b[39m\u001b[38;5;241m.\u001b[39mhandles \u001b[38;5;129;01mis\u001b[39;00m \u001b[38;5;129;01mnot\u001b[39;00m \u001b[38;5;28;01mNone\u001b[39;00m\n\u001b[1;32m   1891\u001b[0m f \u001b[38;5;241m=\u001b[39m \u001b[38;5;28mself\u001b[39m\u001b[38;5;241m.\u001b[39mhandles\u001b[38;5;241m.\u001b[39mhandle\n",
      "File \u001b[0;32m/Library/Frameworks/Python.framework/Versions/3.12/lib/python3.12/site-packages/pandas/io/common.py:873\u001b[0m, in \u001b[0;36mget_handle\u001b[0;34m(path_or_buf, mode, encoding, compression, memory_map, is_text, errors, storage_options)\u001b[0m\n\u001b[1;32m    868\u001b[0m \u001b[38;5;28;01melif\u001b[39;00m \u001b[38;5;28misinstance\u001b[39m(handle, \u001b[38;5;28mstr\u001b[39m):\n\u001b[1;32m    869\u001b[0m     \u001b[38;5;66;03m# Check whether the filename is to be opened in binary mode.\u001b[39;00m\n\u001b[1;32m    870\u001b[0m     \u001b[38;5;66;03m# Binary mode does not support 'encoding' and 'newline'.\u001b[39;00m\n\u001b[1;32m    871\u001b[0m     \u001b[38;5;28;01mif\u001b[39;00m ioargs\u001b[38;5;241m.\u001b[39mencoding \u001b[38;5;129;01mand\u001b[39;00m \u001b[38;5;124m\"\u001b[39m\u001b[38;5;124mb\u001b[39m\u001b[38;5;124m\"\u001b[39m \u001b[38;5;129;01mnot\u001b[39;00m \u001b[38;5;129;01min\u001b[39;00m ioargs\u001b[38;5;241m.\u001b[39mmode:\n\u001b[1;32m    872\u001b[0m         \u001b[38;5;66;03m# Encoding\u001b[39;00m\n\u001b[0;32m--> 873\u001b[0m         handle \u001b[38;5;241m=\u001b[39m \u001b[38;5;28;43mopen\u001b[39;49m\u001b[43m(\u001b[49m\n\u001b[1;32m    874\u001b[0m \u001b[43m            \u001b[49m\u001b[43mhandle\u001b[49m\u001b[43m,\u001b[49m\n\u001b[1;32m    875\u001b[0m \u001b[43m            \u001b[49m\u001b[43mioargs\u001b[49m\u001b[38;5;241;43m.\u001b[39;49m\u001b[43mmode\u001b[49m\u001b[43m,\u001b[49m\n\u001b[1;32m    876\u001b[0m \u001b[43m            \u001b[49m\u001b[43mencoding\u001b[49m\u001b[38;5;241;43m=\u001b[39;49m\u001b[43mioargs\u001b[49m\u001b[38;5;241;43m.\u001b[39;49m\u001b[43mencoding\u001b[49m\u001b[43m,\u001b[49m\n\u001b[1;32m    877\u001b[0m \u001b[43m            \u001b[49m\u001b[43merrors\u001b[49m\u001b[38;5;241;43m=\u001b[39;49m\u001b[43merrors\u001b[49m\u001b[43m,\u001b[49m\n\u001b[1;32m    878\u001b[0m \u001b[43m            \u001b[49m\u001b[43mnewline\u001b[49m\u001b[38;5;241;43m=\u001b[39;49m\u001b[38;5;124;43m\"\u001b[39;49m\u001b[38;5;124;43m\"\u001b[39;49m\u001b[43m,\u001b[49m\n\u001b[1;32m    879\u001b[0m \u001b[43m        \u001b[49m\u001b[43m)\u001b[49m\n\u001b[1;32m    880\u001b[0m     \u001b[38;5;28;01melse\u001b[39;00m:\n\u001b[1;32m    881\u001b[0m         \u001b[38;5;66;03m# Binary mode\u001b[39;00m\n\u001b[1;32m    882\u001b[0m         handle \u001b[38;5;241m=\u001b[39m \u001b[38;5;28mopen\u001b[39m(handle, ioargs\u001b[38;5;241m.\u001b[39mmode)\n",
      "\u001b[0;31mFileNotFoundError\u001b[0m: [Errno 2] No such file or directory: 'path_to_file.csv'"
     ]
    }
   ],
   "source": [
    "import pandas as pd\n",
    "student_data = pd.read_csv('path_to_file.csv')\n",
    "# Sample bins. Feel free to create your own bins.\n",
    "spending_bins = [0, 585, 615, 645, 675]\n",
    "group_names = [\"<$585\", \"$585-615\", \"$615-645\", \"$645-675\"]\n",
    "\n",
    "performance_summary = student_data.groupby('school_name').agg(\n",
    "    avg_math_score = ('math_score', 'mean'),\n",
    "    avg_reading_score = ('reading_score', 'mean'),\n",
    "    passing_math = ('math_score', lambda x: (x > 70).mean() * 100),\n",
    "    passing_reading = ('reading_score', lambda x: (x > 70).mean() * 100),\n",
    "    overall_passing_rate = (passing_math + passing_reading) / 2)\n",
    "\n",
    "performance_summary['overall_passing_rate'] = (performance_summary['passing_math'] + performance_summary['passing_reading']) / 2\n",
    "performance_summary.reset_index(inplace=True)\n",
    "\n",
    "print(\"School Performance by Spending Ranges:\")\n",
    "print(performance_summary)\n"
   ]
  },
  {
   "cell_type": "code",
   "execution_count": null,
   "metadata": {},
   "outputs": [],
   "source": []
  },
  {
   "cell_type": "code",
   "execution_count": null,
   "metadata": {},
   "outputs": [],
   "source": []
  },
  {
   "cell_type": "code",
   "execution_count": null,
   "metadata": {},
   "outputs": [],
   "source": []
  },
  {
   "cell_type": "code",
   "execution_count": 1,
   "metadata": {},
   "outputs": [
    {
     "ename": "NameError",
     "evalue": "name 'pd' is not defined",
     "output_type": "error",
     "traceback": [
      "\u001b[0;31m---------------------------------------------------------------------------\u001b[0m",
      "\u001b[0;31mNameError\u001b[0m                                 Traceback (most recent call last)",
      "Cell \u001b[0;32mIn[1], line 2\u001b[0m\n\u001b[1;32m      1\u001b[0m \u001b[38;5;66;03m# Create a new column to show budget per student in each row\u001b[39;00m\n\u001b[0;32m----> 2\u001b[0m performance_summary \u001b[38;5;241m=\u001b[39m \u001b[43mpd\u001b[49m\u001b[38;5;241m.\u001b[39mDataFrame({\n\u001b[1;32m      3\u001b[0m     \u001b[38;5;124m'\u001b[39m\u001b[38;5;124mschool_name\u001b[39m\u001b[38;5;124m'\u001b[39m: school_data([\u001b[38;5;124m'\u001b[39m\u001b[38;5;124mBailey High School\u001b[39m\u001b[38;5;124m'\u001b[39m, \u001b[38;5;124m'\u001b[39m\u001b[38;5;124mCabrera High School\u001b[39m\u001b[38;5;124m'\u001b[39m, \u001b[38;5;241m.\u001b[39m\u001b[38;5;241m.\u001b[39m\u001b[38;5;241m.\u001b[39m]),\n\u001b[1;32m      4\u001b[0m     \u001b[38;5;124m'\u001b[39m\u001b[38;5;124mtotal_budget\u001b[39m\u001b[38;5;124m'\u001b[39m: school_data([\u001b[38;5;124m'\u001b[39m\u001b[38;5;124mbudget\u001b[39m\u001b[38;5;124m'\u001b[39m]\u001b[38;5;241m.\u001b[39mvalues),\n\u001b[1;32m      5\u001b[0m     \u001b[38;5;124m'\u001b[39m\u001b[38;5;124mtotal_students\u001b[39m\u001b[38;5;124m'\u001b[39m: student_data[\u001b[38;5;124m'\u001b[39m\u001b[38;5;124msize\u001b[39m\u001b[38;5;124m'\u001b[39m]\u001b[38;5;241m.\u001b[39mvalues, })\n\u001b[1;32m      7\u001b[0m performance_summary[\u001b[38;5;124m'\u001b[39m\u001b[38;5;124mper_student_budget\u001b[39m\u001b[38;5;124m'\u001b[39m] \u001b[38;5;241m=\u001b[39m performance_summary[\u001b[38;5;124m'\u001b[39m\u001b[38;5;124mtotal_budget\u001b[39m\u001b[38;5;124m'\u001b[39m] \u001b[38;5;241m/\u001b[39m performance_summary[\u001b[38;5;124m'\u001b[39m\u001b[38;5;124mtotal_students\u001b[39m\u001b[38;5;124m'\u001b[39m]\n\u001b[1;32m      9\u001b[0m \u001b[38;5;28mprint\u001b[39m(\u001b[38;5;124m\"\u001b[39m\u001b[38;5;124mUpdated DataFrame with Budget per Student:\u001b[39m\u001b[38;5;124m\"\u001b[39m)\n",
      "\u001b[0;31mNameError\u001b[0m: name 'pd' is not defined"
     ]
    }
   ],
   "source": [
    "# Create a new column to show budget per student in each row\n",
    "performance_summary = pd.DataFrame({\n",
    "    'school_name': school_data(['Bailey High School', 'Cabrera High School', ...]),\n",
    "    'total_budget': school_data(['budget'].values),\n",
    "    'total_students': student_data['size'].values, })\n",
    "\n",
    "performance_summary['per_student_budget'] = performance_summary['total_budget'] / performance_summary['total_students']\n",
    "\n",
    "print(\"Updated DataFrame with Budget per Student:\")\n",
    "print(performance_summary.head())"
   ]
  },
  {
   "cell_type": "code",
   "execution_count": 163,
   "metadata": {},
   "outputs": [
    {
     "ename": "SyntaxError",
     "evalue": "'{' was never closed (2583119826.py, line 2)",
     "output_type": "error",
     "traceback": [
      "\u001b[0;36m  Cell \u001b[0;32mIn[163], line 2\u001b[0;36m\u001b[0m\n\u001b[0;31m    student_data = pd.DataFrame({\u001b[0m\n\u001b[0m                                ^\u001b[0m\n\u001b[0;31mSyntaxError\u001b[0m\u001b[0;31m:\u001b[0m '{' was never closed\n"
     ]
    }
   ],
   "source": [
    "# Create a new column to define the spending ranges per student\n",
    "student_data = pd.DataFrame({\n",
    "    'school_name': ['School A', 'School B', 'School C', ...],\n",
    "    'spending_per_student': [400, 600, 750, 850, 900, ...],\n",
    "spending_bins = [0, 585, 615, 645, 675]\n",
    "group_names = [\"<$585\", \"$585-615\", \"$615-645\", \"$645-675\"]\n",
    "\n",
    "# Create a new column for spending categories\n",
    "student_data['spending_category'] = pd.cut(student_data['spending_per_student'], bins=bins, labels=labels)\n",
    "\n",
    "# Display the updated DataFrame\n",
    "print(\"Updated DataFrame with Spending Categories:\")\n",
    "print(student_data)\n",
    "\n"
   ]
  },
  {
   "cell_type": "code",
   "execution_count": null,
   "metadata": {},
   "outputs": [],
   "source": [
    "# Calculate the average math score within each spending range\n",
    "\n",
    "\n",
    "\n"
   ]
  },
  {
   "cell_type": "code",
   "execution_count": null,
   "metadata": {},
   "outputs": [],
   "source": [
    "# Calculate the percentage passing rate for math in each spending range\n",
    "\n",
    "\n",
    "\n"
   ]
  },
  {
   "cell_type": "code",
   "execution_count": null,
   "metadata": {},
   "outputs": [],
   "source": [
    "# Calculate the percentage passing rate for reading in each spending range\n",
    "\n",
    "\n"
   ]
  },
  {
   "cell_type": "code",
   "execution_count": null,
   "metadata": {},
   "outputs": [],
   "source": [
    "# Calculate the percentage overall passing rate in each spending range\n",
    "\n",
    "\n"
   ]
  },
  {
   "cell_type": "markdown",
   "metadata": {},
   "source": [
    "### Scores by School Size"
   ]
  },
  {
   "cell_type": "markdown",
   "metadata": {},
   "source": [
    "* Perform the same operations as above, based on school size."
   ]
  },
  {
   "cell_type": "code",
   "execution_count": null,
   "metadata": {},
   "outputs": [],
   "source": [
    "# Sample bins. Feel free to create your own bins.\n",
    "size_bins = [0, 1000, 2000, 5000]\n",
    "group_names = [\"Small (<1000)\", \"Medium (1000-2000)\", \"Large (2000-5000)\"]"
   ]
  },
  {
   "cell_type": "code",
   "execution_count": null,
   "metadata": {
    "scrolled": true
   },
   "outputs": [],
   "source": [
    "# Create a new column for the bin groups\n"
   ]
  },
  {
   "cell_type": "markdown",
   "metadata": {},
   "source": [
    "Look for the total count of test scores that pass 70% or higher\n",
    "\n",
    "\n"
   ]
  },
  {
   "cell_type": "code",
   "execution_count": null,
   "metadata": {},
   "outputs": [],
   "source": [
    "# math_pass_size\n",
    "\n",
    "\n"
   ]
  },
  {
   "cell_type": "code",
   "execution_count": null,
   "metadata": {},
   "outputs": [],
   "source": [
    "# read_pass_size\n",
    "\n",
    "\n"
   ]
  },
  {
   "cell_type": "code",
   "execution_count": null,
   "metadata": {},
   "outputs": [],
   "source": [
    "# Calculate the overall passing rate for different school size\n",
    "\n",
    "\n"
   ]
  },
  {
   "cell_type": "markdown",
   "metadata": {},
   "source": [
    "### Scores by School Type"
   ]
  },
  {
   "cell_type": "markdown",
   "metadata": {},
   "source": [
    "* Perform the same operations as above, based on school type."
   ]
  },
  {
   "cell_type": "code",
   "execution_count": null,
   "metadata": {},
   "outputs": [],
   "source": [
    "# Create bins and groups, school type {'Charter', 'District'}\n",
    "\n",
    "\n"
   ]
  },
  {
   "cell_type": "markdown",
   "metadata": {},
   "source": [
    "Find counts of the passing 70 or higher score for the both test\n"
   ]
  },
  {
   "cell_type": "code",
   "execution_count": null,
   "metadata": {},
   "outputs": [],
   "source": [
    "# math pass size\n",
    "\n",
    "\n"
   ]
  },
  {
   "cell_type": "code",
   "execution_count": null,
   "metadata": {},
   "outputs": [],
   "source": [
    "# reading pass size\n",
    "\n"
   ]
  },
  {
   "cell_type": "code",
   "execution_count": null,
   "metadata": {},
   "outputs": [],
   "source": [
    "# Calculate the overall passing rate\n",
    "\n"
   ]
  }
 ],
 "metadata": {
  "anaconda-cloud": {},
  "kernel_info": {
   "name": "python3"
  },
  "kernelspec": {
   "display_name": "Python 3 (ipykernel)",
   "language": "python",
   "name": "python3"
  },
  "language_info": {
   "codemirror_mode": {
    "name": "ipython",
    "version": 3
   },
   "file_extension": ".py",
   "mimetype": "text/x-python",
   "name": "python",
   "nbconvert_exporter": "python",
   "pygments_lexer": "ipython3",
   "version": "3.12.6"
  },
  "latex_envs": {
   "LaTeX_envs_menu_present": true,
   "autoclose": false,
   "autocomplete": true,
   "bibliofile": "biblio.bib",
   "cite_by": "apalike",
   "current_citInitial": 1,
   "eqLabelWithNumbers": true,
   "eqNumInitial": 1,
   "hotkeys": {
    "equation": "Ctrl-E",
    "itemize": "Ctrl-I"
   },
   "labels_anchors": false,
   "latex_user_defs": false,
   "report_style_numbering": false,
   "user_envs_cfg": false
  },
  "nteract": {
   "version": "0.8.4"
  },
  "toc": {
   "base_numbering": 1,
   "nav_menu": {},
   "number_sections": true,
   "sideBar": true,
   "skip_h1_title": false,
   "title_cell": "Table of Contents",
   "title_sidebar": "Contents",
   "toc_cell": false,
   "toc_position": {},
   "toc_section_display": true,
   "toc_window_display": false
  }
 },
 "nbformat": 4,
 "nbformat_minor": 4
}
