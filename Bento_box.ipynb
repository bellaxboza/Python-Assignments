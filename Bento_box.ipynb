{
 "cells": [
  {
   "cell_type": "code",
   "execution_count": 11,
   "id": "d19b0c1b-1fa6-4448-9cd2-9dcd75909836",
   "metadata": {},
   "outputs": [],
   "source": [
    "main : 'Rice' \n",
    "protein: 'Sesame Chicken' \n",
    "side1 : 'Wakame salad' \n",
    "side2: 'Gyoza'\n",
    "side3: 'Mixed tempura'"
   ]
  },
  {
   "cell_type": "code",
   "execution_count": null,
   "id": "6b67acf6-907d-4e9e-b872-4393349594f6",
   "metadata": {},
   "outputs": [],
   "source": []
  }
 ],
 "metadata": {
  "kernelspec": {
   "display_name": "Python 3 (ipykernel)",
   "language": "python",
   "name": "python3"
  },
  "language_info": {
   "codemirror_mode": {
    "name": "ipython",
    "version": 3
   },
   "file_extension": ".py",
   "mimetype": "text/x-python",
   "name": "python",
   "nbconvert_exporter": "python",
   "pygments_lexer": "ipython3",
   "version": "3.12.6"
  }
 },
 "nbformat": 4,
 "nbformat_minor": 5
}
